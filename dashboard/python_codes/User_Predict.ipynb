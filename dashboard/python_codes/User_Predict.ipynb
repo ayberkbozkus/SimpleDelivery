{
 "cells": [
  {
   "cell_type": "code",
   "execution_count": 108,
   "metadata": {},
   "outputs": [],
   "source": [
    "import plotly\n",
    "import pandas as pd\n",
    "#import plotly.plotly as py\n",
    "import plotly.offline as pyo\n",
    "from plotly.graph_objs import *\n",
    "import plotly.graph_objects as go\n",
    "import numpy as np\n",
    "import matplotlib.pyplot as plt"
   ]
  },
  {
   "cell_type": "code",
   "execution_count": 109,
   "metadata": {},
   "outputs": [],
   "source": [
    "user_df=pd.read_csv(\"user_df.csv\")\n",
    "df=pd.read_csv('latest_df.csv')\n"
   ]
  },
  {
   "cell_type": "code",
   "execution_count": 94,
   "metadata": {},
   "outputs": [],
   "source": [
    "def risk_analizi(df,user_df,user=28):\n",
    "    df2=df.loc[df.UserId==user]\n",
    "    \n",
    "    df_merged = pd.merge(left=df2, right=user_df, how='left', left_on=('UserId'),right_on=('UserId')) ## ,how=left\n",
    "    \n",
    "    df4=df_merged.loc[:,['UserId','Age','Temperature','ProcessDate']]\n",
    "\n",
    "    df4['Rate'] = 0\n",
    "    ### Temps\n",
    "    df4.loc[(df4['Temperature']>=38 ) , 'Rate'] = 1.0\n",
    "    df4.loc[(df4['Temperature']>=37.5) & (df4['Temperature']<38), 'Rate'] = 0.8\n",
    "    df4.loc[(df4['Temperature']>=37) & (df4['Temperature']<37.5), 'Rate'] = 0.6\n",
    "    df4.loc[(df4['Temperature']>=36.5) & (df4['Temperature']<37), 'Rate'] = 0.4\n",
    "    df4.loc[(df4['Temperature']>=36) & (df4['Temperature']<36.5), 'Rate'] = 0.2\n",
    "    df4.loc[(df4['Temperature']>=35.5) & (df4['Temperature']<36), 'Rate'] = 0.15\n",
    "    df4.loc[(df4['Temperature']>=35) & (df4['Temperature']<35.5), 'Rate'] = 0.10\n",
    "    df4.loc[(df4['Temperature']>=34.5) & (df4['Temperature']<35), 'Rate'] = 0.05\n",
    "\n",
    "\n",
    "    ### Ages\n",
    "    df4.loc[(df4['Age']>=60),'Rate']+=0.6\n",
    "    df4.loc[(df4['Age']<15,'Rate')]+=0.4\n",
    "    df4.loc[(df4['Age']<60)&(df4['Age']>=50),'Rate']+=0.3\n",
    "    return df4\n"
   ]
  },
  {
   "cell_type": "code",
   "execution_count": 66,
   "metadata": {},
   "outputs": [],
   "source": [
    "# LSTM for international airline passengers problem with time step regression framing\n",
    "import numpy\n",
    "import matplotlib.pyplot as plt\n",
    "from pandas import read_csv\n",
    "import math\n",
    "from keras.models import Sequential\n",
    "from keras.layers import Dense\n",
    "from keras.layers import LSTM\n",
    "from sklearn.preprocessing import MinMaxScaler\n",
    "from sklearn.metrics import mean_squared_error"
   ]
  },
  {
   "cell_type": "code",
   "execution_count": 106,
   "metadata": {},
   "outputs": [],
   "source": [
    "def Risk_Tahmini(df4,size=0.7):\n",
    "    df4['ProcessDate'] = pd.to_datetime(df4['ProcessDate'] )\n",
    "    df5=df4.loc[:,['ProcessDate','Rate']]\n",
    "    df5.head()\n",
    "    df5=df5.tail(100)\n",
    "    df6=df5.set_index('ProcessDate')\n",
    "    rolling_mean = df6.rolling(window=2).mean()\n",
    "    # load the dataset\n",
    "    rolling_mean=rolling_mean.dropna()\n",
    "    dataset = rolling_mean.values\n",
    "    dataset = dataset.astype('float32')\n",
    "    # convert an array of values into a dataset matrix\n",
    "    def create_dataset(dataset, look_back=1):\n",
    "        dataX, dataY = [], []\n",
    "        for i in range(len(dataset)-look_back-1):\n",
    "            a = dataset[i:(i+look_back), 0]\n",
    "            dataX.append(a)\n",
    "            dataY.append(dataset[i + look_back, 0])\n",
    "        return numpy.array(dataX), numpy.array(dataY)\n",
    "\n",
    "    # fix random seed for reproducibility\n",
    "    numpy.random.seed(7)\n",
    "\n",
    "    # normalize the dataset\n",
    "    scaler = MinMaxScaler(feature_range=(0, 1))\n",
    "    dataset = scaler.fit_transform(dataset)\n",
    "    # split into train and test sets\n",
    "    train_size = int(len(dataset) * size)\n",
    "    test_size = len(dataset) - train_size\n",
    "    train, test = dataset[0:train_size,:], dataset[train_size:len(dataset),:]\n",
    "    # reshape into X=t and Y=t+1\n",
    "    look_back = 3\n",
    "    trainX, trainY = create_dataset(train, look_back)\n",
    "    testX, testY = create_dataset(test, look_back)\n",
    "    # reshape input to be [samples, time steps, features]\n",
    "    trainX = numpy.reshape(trainX, (trainX.shape[0], trainX.shape[1], 1))\n",
    "    testX = numpy.reshape(testX, (testX.shape[0], testX.shape[1], 1))\n",
    "    # create and fit the LSTM network\n",
    "    model = Sequential()\n",
    "    model.add(LSTM(4, input_shape=(look_back, 1)))\n",
    "    model.add(Dense(1))\n",
    "    model.compile(loss='mean_squared_error', optimizer='adam')\n",
    "    model.fit(trainX, trainY, epochs=100, batch_size=1, verbose=2)\n",
    "    # make predictions\n",
    "    trainPredict = model.predict(trainX)\n",
    "    testPredict = model.predict(testX)\n",
    "    # invert predictions\n",
    "    trainPredict = scaler.inverse_transform(trainPredict)\n",
    "    trainY = scaler.inverse_transform([trainY])\n",
    "    testPredict = scaler.inverse_transform(testPredict)\n",
    "    testY = scaler.inverse_transform([testY])\n",
    "    # calculate root mean squared error\n",
    "    trainScore = math.sqrt(mean_squared_error(trainY[0], trainPredict[:,0]))\n",
    "    print('Train Score: %.2f RMSE' % (trainScore))\n",
    "    testScore = math.sqrt(mean_squared_error(testY[0], testPredict[:,0]))\n",
    "    print('Test Score: %.2f RMSE' % (testScore))\n",
    "    # shift train predictions for plotting\n",
    "    trainPredictPlot = numpy.empty_like(dataset)\n",
    "    trainPredictPlot[:, :] = numpy.nan\n",
    "    trainPredictPlot[look_back:len(trainPredict)+look_back, :] = trainPredict\n",
    "    # shift test predictions for plotting\n",
    "    testPredictPlot = numpy.empty_like(dataset)\n",
    "    testPredictPlot[:, :] = numpy.nan\n",
    "    testPredictPlot[len(trainPredict)+(look_back*2)+1:len(dataset)-1, :] = testPredict\n",
    "    # plot baseline and predictions\n",
    "    df = pd.DataFrame(trainPredictPlot,columns=[\"train\"])\n",
    "    df2= pd.DataFrame(testPredictPlot,columns=[\"test\"])\n",
    "    return df,df2,rolling_mean"
   ]
  },
  {
   "cell_type": "code",
   "execution_count": 110,
   "metadata": {},
   "outputs": [],
   "source": [
    "df_=df.copy()\n",
    "user_df_=user_df.copy()"
   ]
  },
  {
   "cell_type": "code",
   "execution_count": 111,
   "metadata": {},
   "outputs": [
    {
     "name": "stdout",
     "output_type": "stream",
     "text": [
      "Epoch 1/100\n",
      " - 0s - loss: 0.2507\n",
      "Epoch 2/100\n",
      " - 0s - loss: 0.0993\n",
      "Epoch 3/100\n",
      " - 0s - loss: 0.0466\n",
      "Epoch 4/100\n",
      " - 0s - loss: 0.0403\n",
      "Epoch 5/100\n",
      " - 0s - loss: 0.0395\n",
      "Epoch 6/100\n",
      " - 0s - loss: 0.0396\n",
      "Epoch 7/100\n",
      " - 0s - loss: 0.0393\n",
      "Epoch 8/100\n",
      " - 0s - loss: 0.0392\n",
      "Epoch 9/100\n",
      " - 0s - loss: 0.0386\n",
      "Epoch 10/100\n",
      " - 0s - loss: 0.0396\n",
      "Epoch 11/100\n",
      " - 0s - loss: 0.0380\n",
      "Epoch 12/100\n",
      " - 0s - loss: 0.0375\n",
      "Epoch 13/100\n",
      " - 0s - loss: 0.0381\n",
      "Epoch 14/100\n",
      " - 0s - loss: 0.0374\n",
      "Epoch 15/100\n",
      " - 0s - loss: 0.0375\n",
      "Epoch 16/100\n",
      " - 0s - loss: 0.0374\n",
      "Epoch 17/100\n",
      " - 0s - loss: 0.0371\n",
      "Epoch 18/100\n",
      " - 0s - loss: 0.0374\n",
      "Epoch 19/100\n",
      " - 0s - loss: 0.0370\n",
      "Epoch 20/100\n",
      " - 0s - loss: 0.0368\n",
      "Epoch 21/100\n",
      " - 0s - loss: 0.0365\n",
      "Epoch 22/100\n",
      " - 0s - loss: 0.0365\n",
      "Epoch 23/100\n",
      " - 0s - loss: 0.0361\n",
      "Epoch 24/100\n",
      " - 0s - loss: 0.0358\n",
      "Epoch 25/100\n",
      " - 0s - loss: 0.0362\n",
      "Epoch 26/100\n",
      " - 0s - loss: 0.0358\n",
      "Epoch 27/100\n",
      " - 0s - loss: 0.0360\n",
      "Epoch 28/100\n",
      " - 0s - loss: 0.0355\n",
      "Epoch 29/100\n",
      " - 0s - loss: 0.0355\n",
      "Epoch 30/100\n",
      " - 0s - loss: 0.0355\n",
      "Epoch 31/100\n",
      " - 0s - loss: 0.0355\n",
      "Epoch 32/100\n",
      " - 0s - loss: 0.0353\n",
      "Epoch 33/100\n",
      " - 0s - loss: 0.0358\n",
      "Epoch 34/100\n",
      " - 0s - loss: 0.0348\n",
      "Epoch 35/100\n",
      " - 0s - loss: 0.0351\n",
      "Epoch 36/100\n",
      " - 0s - loss: 0.0348\n",
      "Epoch 37/100\n",
      " - 0s - loss: 0.0345\n",
      "Epoch 38/100\n",
      " - 0s - loss: 0.0356\n",
      "Epoch 39/100\n",
      " - 0s - loss: 0.0346\n",
      "Epoch 40/100\n",
      " - 0s - loss: 0.0349\n",
      "Epoch 41/100\n",
      " - 0s - loss: 0.0348\n",
      "Epoch 42/100\n",
      " - 0s - loss: 0.0346\n",
      "Epoch 43/100\n",
      " - 0s - loss: 0.0348\n",
      "Epoch 44/100\n",
      " - 0s - loss: 0.0347\n",
      "Epoch 45/100\n",
      " - 0s - loss: 0.0342\n",
      "Epoch 46/100\n",
      " - 0s - loss: 0.0345\n",
      "Epoch 47/100\n",
      " - 0s - loss: 0.0340\n",
      "Epoch 48/100\n",
      " - 0s - loss: 0.0336\n",
      "Epoch 49/100\n",
      " - 0s - loss: 0.0338\n",
      "Epoch 50/100\n",
      " - 0s - loss: 0.0336\n",
      "Epoch 51/100\n",
      " - 0s - loss: 0.0341\n",
      "Epoch 52/100\n",
      " - 0s - loss: 0.0336\n",
      "Epoch 53/100\n",
      " - 0s - loss: 0.0340\n",
      "Epoch 54/100\n",
      " - 0s - loss: 0.0336\n",
      "Epoch 55/100\n",
      " - 0s - loss: 0.0332\n",
      "Epoch 56/100\n",
      " - 0s - loss: 0.0339\n",
      "Epoch 57/100\n",
      " - 0s - loss: 0.0332\n",
      "Epoch 58/100\n",
      " - 0s - loss: 0.0334\n",
      "Epoch 59/100\n",
      " - 0s - loss: 0.0332\n",
      "Epoch 60/100\n",
      " - 0s - loss: 0.0329\n",
      "Epoch 61/100\n",
      " - 0s - loss: 0.0331\n",
      "Epoch 62/100\n",
      " - 0s - loss: 0.0328\n",
      "Epoch 63/100\n",
      " - 0s - loss: 0.0329\n",
      "Epoch 64/100\n",
      " - 0s - loss: 0.0332\n",
      "Epoch 65/100\n",
      " - 0s - loss: 0.0325\n",
      "Epoch 66/100\n",
      " - 0s - loss: 0.0324\n",
      "Epoch 67/100\n",
      " - 0s - loss: 0.0324\n",
      "Epoch 68/100\n",
      " - 0s - loss: 0.0327\n",
      "Epoch 69/100\n",
      " - 0s - loss: 0.0324\n",
      "Epoch 70/100\n",
      " - 0s - loss: 0.0326\n",
      "Epoch 71/100\n",
      " - 0s - loss: 0.0323\n",
      "Epoch 72/100\n",
      " - 0s - loss: 0.0322\n",
      "Epoch 73/100\n",
      " - 0s - loss: 0.0321\n",
      "Epoch 74/100\n",
      " - 0s - loss: 0.0319\n",
      "Epoch 75/100\n",
      " - 0s - loss: 0.0323\n",
      "Epoch 76/100\n",
      " - 0s - loss: 0.0319\n",
      "Epoch 77/100\n",
      " - 0s - loss: 0.0316\n",
      "Epoch 78/100\n",
      " - 0s - loss: 0.0326\n",
      "Epoch 79/100\n",
      " - 0s - loss: 0.0317\n",
      "Epoch 80/100\n",
      " - 0s - loss: 0.0315\n",
      "Epoch 81/100\n",
      " - 0s - loss: 0.0315\n",
      "Epoch 82/100\n",
      " - 0s - loss: 0.0311\n",
      "Epoch 83/100\n",
      " - 0s - loss: 0.0312\n",
      "Epoch 84/100\n",
      " - 0s - loss: 0.0312\n",
      "Epoch 85/100\n",
      " - 0s - loss: 0.0310\n",
      "Epoch 86/100\n",
      " - 0s - loss: 0.0321\n",
      "Epoch 87/100\n",
      " - 0s - loss: 0.0312\n",
      "Epoch 88/100\n",
      " - 0s - loss: 0.0309\n",
      "Epoch 89/100\n",
      " - 0s - loss: 0.0316\n",
      "Epoch 90/100\n",
      " - 0s - loss: 0.0313\n",
      "Epoch 91/100\n",
      " - 0s - loss: 0.0306\n",
      "Epoch 92/100\n",
      " - 0s - loss: 0.0305\n",
      "Epoch 93/100\n",
      " - 0s - loss: 0.0309\n",
      "Epoch 94/100\n",
      " - 0s - loss: 0.0307\n",
      "Epoch 95/100\n",
      " - 0s - loss: 0.0307\n",
      "Epoch 96/100\n",
      " - 0s - loss: 0.0303\n",
      "Epoch 97/100\n",
      " - 0s - loss: 0.0300\n",
      "Epoch 98/100\n",
      " - 0s - loss: 0.0300\n",
      "Epoch 99/100\n",
      " - 0s - loss: 0.0304\n",
      "Epoch 100/100\n",
      " - 0s - loss: 0.0300\n",
      "Train Score: 0.02 RMSE\n",
      "Test Score: 0.02 RMSE\n"
     ]
    },
    {
     "data": {
      "application/vnd.plotly.v1+json": {
       "config": {
        "plotlyServerURL": "https://plot.ly"
       },
       "data": [
        {
         "marker": {
          "color": "indianred"
         },
         "mode": "lines+markers",
         "name": "Gercek Risk Degeri",
         "type": "scatter",
         "x": [
          "2020-05-07T20:10:00",
          "2020-05-07T20:20:00",
          "2020-05-07T20:40:00",
          "2020-05-07T20:50:00",
          "2020-05-07T21:00:00",
          "2020-05-07T21:10:00",
          "2020-05-07T21:20:00",
          "2020-05-07T21:30:00",
          "2020-05-07T21:40:00",
          "2020-05-07T21:50:00",
          "2020-05-07T22:00:00",
          "2020-05-07T22:10:00",
          "2020-05-07T22:30:00",
          "2020-05-07T22:40:00",
          "2020-05-07T22:50:00",
          "2020-05-07T23:00:00",
          "2020-05-07T23:10:00",
          "2020-05-07T23:20:00",
          "2020-05-07T23:30:00",
          "2020-05-07T23:40:00",
          "2020-05-07T23:50:00",
          "2020-05-08T00:10:00",
          "2020-05-08T03:00:00",
          "2020-05-08T03:30:00",
          "2020-05-08T06:00:00",
          "2020-05-08T09:50:00",
          "2020-05-08T10:00:00",
          "2020-05-08T10:10:00",
          "2020-05-08T10:20:00",
          "2020-05-08T10:30:00",
          "2020-05-08T10:40:00",
          "2020-05-08T10:50:00",
          "2020-05-08T11:00:00",
          "2020-05-08T11:10:00",
          "2020-05-08T11:20:00",
          "2020-05-08T11:30:00",
          "2020-05-08T11:40:00",
          "2020-05-08T11:50:00",
          "2020-05-08T12:00:00",
          "2020-05-08T12:10:00",
          "2020-05-08T12:20:00",
          "2020-05-08T12:30:00",
          "2020-05-08T12:40:00",
          "2020-05-08T12:50:00",
          "2020-05-08T13:00:00",
          "2020-05-08T13:10:00",
          "2020-05-08T13:20:00",
          "2020-05-08T13:30:00",
          "2020-05-08T13:40:00",
          "2020-05-08T13:50:00",
          "2020-05-08T14:00:00",
          "2020-05-08T14:10:00",
          "2020-05-08T14:20:00",
          "2020-05-08T14:30:00",
          "2020-05-08T14:40:00",
          "2020-05-08T14:50:00",
          "2020-05-08T15:00:00",
          "2020-05-08T15:10:00",
          "2020-05-08T15:20:00",
          "2020-05-08T15:30:00",
          "2020-05-08T15:40:00",
          "2020-05-08T15:50:00",
          "2020-05-08T16:00:00",
          "2020-05-08T16:10:00",
          "2020-05-08T16:20:00",
          "2020-05-08T16:30:00",
          "2020-05-08T16:40:00",
          "2020-05-08T16:50:00",
          "2020-05-08T17:00:00",
          "2020-05-08T17:10:00",
          "2020-05-08T17:20:00",
          "2020-05-08T17:30:00",
          "2020-05-08T17:40:00",
          "2020-05-08T17:50:00",
          "2020-05-08T18:00:00",
          "2020-05-08T18:10:00",
          "2020-05-08T18:20:00",
          "2020-05-08T18:30:00",
          "2020-05-08T18:40:00",
          "2020-05-08T19:00:00",
          "2020-05-08T19:10:00",
          "2020-05-08T19:20:00",
          "2020-05-08T19:30:00",
          "2020-05-08T19:40:00",
          "2020-05-08T19:50:00",
          "2020-05-08T20:10:00",
          "2020-05-08T20:20:00",
          "2020-05-08T20:30:00",
          "2020-05-08T20:40:00",
          "2020-05-08T20:50:00",
          "2020-05-08T21:00:00",
          "2020-05-08T21:20:00",
          "2020-05-08T21:30:00",
          "2020-05-08T21:40:00",
          "2020-05-08T21:50:00",
          "2020-05-08T22:00:00",
          "2020-05-08T22:10:00",
          "2020-05-08T22:20:00",
          "2020-05-08T22:40:00"
         ],
         "y": [
          null,
          null,
          null,
          0.7562838196754456,
          0.7562838196754456,
          0.7562838196754456,
          0.7562838196754456,
          0.7562838196754456,
          0.7562838196754456,
          0.7562838196754456,
          0.7684210538864136,
          0.7722097635269165,
          0.7617087960243225,
          0.7582244873046875,
          0.7562838196754456,
          0.7562838196754456,
          0.7562838196754456,
          0.7562838196754456,
          0.7562838196754456,
          0.7684210538864136,
          0.7838415503501892,
          0.7891748547554016,
          0.7789884209632874,
          0.775986909866333,
          0.7859711050987244,
          0.7891748547554016,
          0.7533236145973206,
          0.7319272756576538,
          0.7445783019065857,
          0.7514393329620361,
          0.7562838196754456,
          0.7562838196754456,
          0.7562838196754456,
          0.7562838196754456,
          0.7562838196754456,
          0.7684210538864136,
          0.7838415503501892,
          0.7891748547554016,
          0.7909587621688843,
          0.7909587621688843,
          0.7909587621688843,
          0.7909587621688843,
          0.7909587621688843,
          0.7909587621688843,
          0.7789884209632874,
          0.7633832097053528,
          0.7582244873046875,
          0.7562838196754456,
          0.7562838196754456,
          0.7562838196754456,
          0.7684210538864136,
          0.7722097635269165,
          0.7742535471916199,
          0.7859711050987244,
          0.7891748547554016,
          0.7909587621688843,
          0.7909587621688843,
          0.7909587621688843,
          0.7909587621688843,
          0.7789884209632874,
          0.775986909866333,
          0.7859711050987244,
          0.7772427797317505,
          0.775986909866333,
          0.7859711050987244,
          0.7772427797317505,
          0.775986909866333,
          0.7742535471916199,
          null,
          null,
          null,
          null,
          null,
          null,
          null,
          null,
          null,
          null,
          null,
          null,
          null,
          null,
          null,
          null,
          null,
          null,
          null,
          null,
          null,
          null,
          null,
          null,
          null,
          null,
          null,
          null,
          null,
          null,
          null
         ]
        },
        {
         "marker": {
          "color": "lightsalmon"
         },
         "mode": "lines+markers",
         "name": "Risk Tahmini",
         "type": "scatter",
         "x": [
          "2020-05-07T20:10:00",
          "2020-05-07T20:20:00",
          "2020-05-07T20:40:00",
          "2020-05-07T20:50:00",
          "2020-05-07T21:00:00",
          "2020-05-07T21:10:00",
          "2020-05-07T21:20:00",
          "2020-05-07T21:30:00",
          "2020-05-07T21:40:00",
          "2020-05-07T21:50:00",
          "2020-05-07T22:00:00",
          "2020-05-07T22:10:00",
          "2020-05-07T22:30:00",
          "2020-05-07T22:40:00",
          "2020-05-07T22:50:00",
          "2020-05-07T23:00:00",
          "2020-05-07T23:10:00",
          "2020-05-07T23:20:00",
          "2020-05-07T23:30:00",
          "2020-05-07T23:40:00",
          "2020-05-07T23:50:00",
          "2020-05-08T00:10:00",
          "2020-05-08T03:00:00",
          "2020-05-08T03:30:00",
          "2020-05-08T06:00:00",
          "2020-05-08T09:50:00",
          "2020-05-08T10:00:00",
          "2020-05-08T10:10:00",
          "2020-05-08T10:20:00",
          "2020-05-08T10:30:00",
          "2020-05-08T10:40:00",
          "2020-05-08T10:50:00",
          "2020-05-08T11:00:00",
          "2020-05-08T11:10:00",
          "2020-05-08T11:20:00",
          "2020-05-08T11:30:00",
          "2020-05-08T11:40:00",
          "2020-05-08T11:50:00",
          "2020-05-08T12:00:00",
          "2020-05-08T12:10:00",
          "2020-05-08T12:20:00",
          "2020-05-08T12:30:00",
          "2020-05-08T12:40:00",
          "2020-05-08T12:50:00",
          "2020-05-08T13:00:00",
          "2020-05-08T13:10:00",
          "2020-05-08T13:20:00",
          "2020-05-08T13:30:00",
          "2020-05-08T13:40:00",
          "2020-05-08T13:50:00",
          "2020-05-08T14:00:00",
          "2020-05-08T14:10:00",
          "2020-05-08T14:20:00",
          "2020-05-08T14:30:00",
          "2020-05-08T14:40:00",
          "2020-05-08T14:50:00",
          "2020-05-08T15:00:00",
          "2020-05-08T15:10:00",
          "2020-05-08T15:20:00",
          "2020-05-08T15:30:00",
          "2020-05-08T15:40:00",
          "2020-05-08T15:50:00",
          "2020-05-08T16:00:00",
          "2020-05-08T16:10:00",
          "2020-05-08T16:20:00",
          "2020-05-08T16:30:00",
          "2020-05-08T16:40:00",
          "2020-05-08T16:50:00",
          "2020-05-08T17:00:00",
          "2020-05-08T17:10:00",
          "2020-05-08T17:20:00",
          "2020-05-08T17:30:00",
          "2020-05-08T17:40:00",
          "2020-05-08T17:50:00",
          "2020-05-08T18:00:00",
          "2020-05-08T18:10:00",
          "2020-05-08T18:20:00",
          "2020-05-08T18:30:00",
          "2020-05-08T18:40:00",
          "2020-05-08T19:00:00",
          "2020-05-08T19:10:00",
          "2020-05-08T19:20:00",
          "2020-05-08T19:30:00",
          "2020-05-08T19:40:00",
          "2020-05-08T19:50:00",
          "2020-05-08T20:10:00",
          "2020-05-08T20:20:00",
          "2020-05-08T20:30:00",
          "2020-05-08T20:40:00",
          "2020-05-08T20:50:00",
          "2020-05-08T21:00:00",
          "2020-05-08T21:20:00",
          "2020-05-08T21:30:00",
          "2020-05-08T21:40:00",
          "2020-05-08T21:50:00",
          "2020-05-08T22:00:00",
          "2020-05-08T22:10:00",
          "2020-05-08T22:20:00",
          "2020-05-08T22:40:00"
         ],
         "y": [
          null,
          null,
          null,
          null,
          null,
          null,
          null,
          null,
          null,
          null,
          null,
          null,
          null,
          null,
          null,
          null,
          null,
          null,
          null,
          null,
          null,
          null,
          null,
          null,
          null,
          null,
          null,
          null,
          null,
          null,
          null,
          null,
          null,
          null,
          null,
          null,
          null,
          null,
          null,
          null,
          null,
          null,
          null,
          null,
          null,
          null,
          null,
          null,
          null,
          null,
          null,
          null,
          null,
          null,
          null,
          null,
          null,
          null,
          null,
          null,
          null,
          null,
          null,
          null,
          null,
          null,
          null,
          null,
          null,
          null,
          null,
          null,
          0.7562838196754456,
          0.7562838196754456,
          0.7562838196754456,
          0.7562838196754456,
          0.7562838196754456,
          0.7562838196754456,
          0.7562838196754456,
          0.7562838196754456,
          0.7562838196754456,
          0.7562838196754456,
          0.7562838196754456,
          0.7684210538864136,
          0.7722097635269165,
          0.7617087960243225,
          0.7582244873046875,
          0.7562838196754456,
          0.7684210538864136,
          0.7722097635269165,
          0.7742535471916199,
          0.7859711050987244,
          0.7772427797317505,
          0.7506307363510132,
          0.7418984174728394,
          0.7497193813323975,
          0.7540253400802612,
          0.7562838196754456,
          null
         ]
        }
       ],
       "layout": {
        "template": {
         "data": {
          "bar": [
           {
            "error_x": {
             "color": "#2a3f5f"
            },
            "error_y": {
             "color": "#2a3f5f"
            },
            "marker": {
             "line": {
              "color": "#E5ECF6",
              "width": 0.5
             }
            },
            "type": "bar"
           }
          ],
          "barpolar": [
           {
            "marker": {
             "line": {
              "color": "#E5ECF6",
              "width": 0.5
             }
            },
            "type": "barpolar"
           }
          ],
          "carpet": [
           {
            "aaxis": {
             "endlinecolor": "#2a3f5f",
             "gridcolor": "white",
             "linecolor": "white",
             "minorgridcolor": "white",
             "startlinecolor": "#2a3f5f"
            },
            "baxis": {
             "endlinecolor": "#2a3f5f",
             "gridcolor": "white",
             "linecolor": "white",
             "minorgridcolor": "white",
             "startlinecolor": "#2a3f5f"
            },
            "type": "carpet"
           }
          ],
          "choropleth": [
           {
            "colorbar": {
             "outlinewidth": 0,
             "ticks": ""
            },
            "type": "choropleth"
           }
          ],
          "contour": [
           {
            "colorbar": {
             "outlinewidth": 0,
             "ticks": ""
            },
            "colorscale": [
             [
              0,
              "#0d0887"
             ],
             [
              0.1111111111111111,
              "#46039f"
             ],
             [
              0.2222222222222222,
              "#7201a8"
             ],
             [
              0.3333333333333333,
              "#9c179e"
             ],
             [
              0.4444444444444444,
              "#bd3786"
             ],
             [
              0.5555555555555556,
              "#d8576b"
             ],
             [
              0.6666666666666666,
              "#ed7953"
             ],
             [
              0.7777777777777778,
              "#fb9f3a"
             ],
             [
              0.8888888888888888,
              "#fdca26"
             ],
             [
              1,
              "#f0f921"
             ]
            ],
            "type": "contour"
           }
          ],
          "contourcarpet": [
           {
            "colorbar": {
             "outlinewidth": 0,
             "ticks": ""
            },
            "type": "contourcarpet"
           }
          ],
          "heatmap": [
           {
            "colorbar": {
             "outlinewidth": 0,
             "ticks": ""
            },
            "colorscale": [
             [
              0,
              "#0d0887"
             ],
             [
              0.1111111111111111,
              "#46039f"
             ],
             [
              0.2222222222222222,
              "#7201a8"
             ],
             [
              0.3333333333333333,
              "#9c179e"
             ],
             [
              0.4444444444444444,
              "#bd3786"
             ],
             [
              0.5555555555555556,
              "#d8576b"
             ],
             [
              0.6666666666666666,
              "#ed7953"
             ],
             [
              0.7777777777777778,
              "#fb9f3a"
             ],
             [
              0.8888888888888888,
              "#fdca26"
             ],
             [
              1,
              "#f0f921"
             ]
            ],
            "type": "heatmap"
           }
          ],
          "heatmapgl": [
           {
            "colorbar": {
             "outlinewidth": 0,
             "ticks": ""
            },
            "colorscale": [
             [
              0,
              "#0d0887"
             ],
             [
              0.1111111111111111,
              "#46039f"
             ],
             [
              0.2222222222222222,
              "#7201a8"
             ],
             [
              0.3333333333333333,
              "#9c179e"
             ],
             [
              0.4444444444444444,
              "#bd3786"
             ],
             [
              0.5555555555555556,
              "#d8576b"
             ],
             [
              0.6666666666666666,
              "#ed7953"
             ],
             [
              0.7777777777777778,
              "#fb9f3a"
             ],
             [
              0.8888888888888888,
              "#fdca26"
             ],
             [
              1,
              "#f0f921"
             ]
            ],
            "type": "heatmapgl"
           }
          ],
          "histogram": [
           {
            "marker": {
             "colorbar": {
              "outlinewidth": 0,
              "ticks": ""
             }
            },
            "type": "histogram"
           }
          ],
          "histogram2d": [
           {
            "colorbar": {
             "outlinewidth": 0,
             "ticks": ""
            },
            "colorscale": [
             [
              0,
              "#0d0887"
             ],
             [
              0.1111111111111111,
              "#46039f"
             ],
             [
              0.2222222222222222,
              "#7201a8"
             ],
             [
              0.3333333333333333,
              "#9c179e"
             ],
             [
              0.4444444444444444,
              "#bd3786"
             ],
             [
              0.5555555555555556,
              "#d8576b"
             ],
             [
              0.6666666666666666,
              "#ed7953"
             ],
             [
              0.7777777777777778,
              "#fb9f3a"
             ],
             [
              0.8888888888888888,
              "#fdca26"
             ],
             [
              1,
              "#f0f921"
             ]
            ],
            "type": "histogram2d"
           }
          ],
          "histogram2dcontour": [
           {
            "colorbar": {
             "outlinewidth": 0,
             "ticks": ""
            },
            "colorscale": [
             [
              0,
              "#0d0887"
             ],
             [
              0.1111111111111111,
              "#46039f"
             ],
             [
              0.2222222222222222,
              "#7201a8"
             ],
             [
              0.3333333333333333,
              "#9c179e"
             ],
             [
              0.4444444444444444,
              "#bd3786"
             ],
             [
              0.5555555555555556,
              "#d8576b"
             ],
             [
              0.6666666666666666,
              "#ed7953"
             ],
             [
              0.7777777777777778,
              "#fb9f3a"
             ],
             [
              0.8888888888888888,
              "#fdca26"
             ],
             [
              1,
              "#f0f921"
             ]
            ],
            "type": "histogram2dcontour"
           }
          ],
          "mesh3d": [
           {
            "colorbar": {
             "outlinewidth": 0,
             "ticks": ""
            },
            "type": "mesh3d"
           }
          ],
          "parcoords": [
           {
            "line": {
             "colorbar": {
              "outlinewidth": 0,
              "ticks": ""
             }
            },
            "type": "parcoords"
           }
          ],
          "pie": [
           {
            "automargin": true,
            "type": "pie"
           }
          ],
          "scatter": [
           {
            "marker": {
             "colorbar": {
              "outlinewidth": 0,
              "ticks": ""
             }
            },
            "type": "scatter"
           }
          ],
          "scatter3d": [
           {
            "line": {
             "colorbar": {
              "outlinewidth": 0,
              "ticks": ""
             }
            },
            "marker": {
             "colorbar": {
              "outlinewidth": 0,
              "ticks": ""
             }
            },
            "type": "scatter3d"
           }
          ],
          "scattercarpet": [
           {
            "marker": {
             "colorbar": {
              "outlinewidth": 0,
              "ticks": ""
             }
            },
            "type": "scattercarpet"
           }
          ],
          "scattergeo": [
           {
            "marker": {
             "colorbar": {
              "outlinewidth": 0,
              "ticks": ""
             }
            },
            "type": "scattergeo"
           }
          ],
          "scattergl": [
           {
            "marker": {
             "colorbar": {
              "outlinewidth": 0,
              "ticks": ""
             }
            },
            "type": "scattergl"
           }
          ],
          "scattermapbox": [
           {
            "marker": {
             "colorbar": {
              "outlinewidth": 0,
              "ticks": ""
             }
            },
            "type": "scattermapbox"
           }
          ],
          "scatterpolar": [
           {
            "marker": {
             "colorbar": {
              "outlinewidth": 0,
              "ticks": ""
             }
            },
            "type": "scatterpolar"
           }
          ],
          "scatterpolargl": [
           {
            "marker": {
             "colorbar": {
              "outlinewidth": 0,
              "ticks": ""
             }
            },
            "type": "scatterpolargl"
           }
          ],
          "scatterternary": [
           {
            "marker": {
             "colorbar": {
              "outlinewidth": 0,
              "ticks": ""
             }
            },
            "type": "scatterternary"
           }
          ],
          "surface": [
           {
            "colorbar": {
             "outlinewidth": 0,
             "ticks": ""
            },
            "colorscale": [
             [
              0,
              "#0d0887"
             ],
             [
              0.1111111111111111,
              "#46039f"
             ],
             [
              0.2222222222222222,
              "#7201a8"
             ],
             [
              0.3333333333333333,
              "#9c179e"
             ],
             [
              0.4444444444444444,
              "#bd3786"
             ],
             [
              0.5555555555555556,
              "#d8576b"
             ],
             [
              0.6666666666666666,
              "#ed7953"
             ],
             [
              0.7777777777777778,
              "#fb9f3a"
             ],
             [
              0.8888888888888888,
              "#fdca26"
             ],
             [
              1,
              "#f0f921"
             ]
            ],
            "type": "surface"
           }
          ],
          "table": [
           {
            "cells": {
             "fill": {
              "color": "#EBF0F8"
             },
             "line": {
              "color": "white"
             }
            },
            "header": {
             "fill": {
              "color": "#C8D4E3"
             },
             "line": {
              "color": "white"
             }
            },
            "type": "table"
           }
          ]
         },
         "layout": {
          "annotationdefaults": {
           "arrowcolor": "#2a3f5f",
           "arrowhead": 0,
           "arrowwidth": 1
          },
          "coloraxis": {
           "colorbar": {
            "outlinewidth": 0,
            "ticks": ""
           }
          },
          "colorscale": {
           "diverging": [
            [
             0,
             "#8e0152"
            ],
            [
             0.1,
             "#c51b7d"
            ],
            [
             0.2,
             "#de77ae"
            ],
            [
             0.3,
             "#f1b6da"
            ],
            [
             0.4,
             "#fde0ef"
            ],
            [
             0.5,
             "#f7f7f7"
            ],
            [
             0.6,
             "#e6f5d0"
            ],
            [
             0.7,
             "#b8e186"
            ],
            [
             0.8,
             "#7fbc41"
            ],
            [
             0.9,
             "#4d9221"
            ],
            [
             1,
             "#276419"
            ]
           ],
           "sequential": [
            [
             0,
             "#0d0887"
            ],
            [
             0.1111111111111111,
             "#46039f"
            ],
            [
             0.2222222222222222,
             "#7201a8"
            ],
            [
             0.3333333333333333,
             "#9c179e"
            ],
            [
             0.4444444444444444,
             "#bd3786"
            ],
            [
             0.5555555555555556,
             "#d8576b"
            ],
            [
             0.6666666666666666,
             "#ed7953"
            ],
            [
             0.7777777777777778,
             "#fb9f3a"
            ],
            [
             0.8888888888888888,
             "#fdca26"
            ],
            [
             1,
             "#f0f921"
            ]
           ],
           "sequentialminus": [
            [
             0,
             "#0d0887"
            ],
            [
             0.1111111111111111,
             "#46039f"
            ],
            [
             0.2222222222222222,
             "#7201a8"
            ],
            [
             0.3333333333333333,
             "#9c179e"
            ],
            [
             0.4444444444444444,
             "#bd3786"
            ],
            [
             0.5555555555555556,
             "#d8576b"
            ],
            [
             0.6666666666666666,
             "#ed7953"
            ],
            [
             0.7777777777777778,
             "#fb9f3a"
            ],
            [
             0.8888888888888888,
             "#fdca26"
            ],
            [
             1,
             "#f0f921"
            ]
           ]
          },
          "colorway": [
           "#636efa",
           "#EF553B",
           "#00cc96",
           "#ab63fa",
           "#FFA15A",
           "#19d3f3",
           "#FF6692",
           "#B6E880",
           "#FF97FF",
           "#FECB52"
          ],
          "font": {
           "color": "#2a3f5f"
          },
          "geo": {
           "bgcolor": "white",
           "lakecolor": "white",
           "landcolor": "#E5ECF6",
           "showlakes": true,
           "showland": true,
           "subunitcolor": "white"
          },
          "hoverlabel": {
           "align": "left"
          },
          "hovermode": "closest",
          "mapbox": {
           "style": "light"
          },
          "paper_bgcolor": "white",
          "plot_bgcolor": "#E5ECF6",
          "polar": {
           "angularaxis": {
            "gridcolor": "white",
            "linecolor": "white",
            "ticks": ""
           },
           "bgcolor": "#E5ECF6",
           "radialaxis": {
            "gridcolor": "white",
            "linecolor": "white",
            "ticks": ""
           }
          },
          "scene": {
           "xaxis": {
            "backgroundcolor": "#E5ECF6",
            "gridcolor": "white",
            "gridwidth": 2,
            "linecolor": "white",
            "showbackground": true,
            "ticks": "",
            "zerolinecolor": "white"
           },
           "yaxis": {
            "backgroundcolor": "#E5ECF6",
            "gridcolor": "white",
            "gridwidth": 2,
            "linecolor": "white",
            "showbackground": true,
            "ticks": "",
            "zerolinecolor": "white"
           },
           "zaxis": {
            "backgroundcolor": "#E5ECF6",
            "gridcolor": "white",
            "gridwidth": 2,
            "linecolor": "white",
            "showbackground": true,
            "ticks": "",
            "zerolinecolor": "white"
           }
          },
          "shapedefaults": {
           "line": {
            "color": "#2a3f5f"
           }
          },
          "ternary": {
           "aaxis": {
            "gridcolor": "white",
            "linecolor": "white",
            "ticks": ""
           },
           "baxis": {
            "gridcolor": "white",
            "linecolor": "white",
            "ticks": ""
           },
           "bgcolor": "#E5ECF6",
           "caxis": {
            "gridcolor": "white",
            "linecolor": "white",
            "ticks": ""
           }
          },
          "title": {
           "x": 0.05
          },
          "xaxis": {
           "automargin": true,
           "gridcolor": "white",
           "linecolor": "white",
           "ticks": "",
           "title": {
            "standoff": 15
           },
           "zerolinecolor": "white",
           "zerolinewidth": 2
          },
          "yaxis": {
           "automargin": true,
           "gridcolor": "white",
           "linecolor": "white",
           "ticks": "",
           "title": {
            "standoff": 15
           },
           "zerolinecolor": "white",
           "zerolinewidth": 2
          }
         }
        },
        "yaxis": {
         "range": [
          0.5,
          1
         ]
        }
       }
      },
      "text/html": [
       "<div>\n",
       "        \n",
       "        \n",
       "            <div id=\"c3a00644-b8d5-451c-bbc4-f05004443de1\" class=\"plotly-graph-div\" style=\"height:525px; width:100%;\"></div>\n",
       "            <script type=\"text/javascript\">\n",
       "                require([\"plotly\"], function(Plotly) {\n",
       "                    window.PLOTLYENV=window.PLOTLYENV || {};\n",
       "                    \n",
       "                if (document.getElementById(\"c3a00644-b8d5-451c-bbc4-f05004443de1\")) {\n",
       "                    Plotly.newPlot(\n",
       "                        'c3a00644-b8d5-451c-bbc4-f05004443de1',\n",
       "                        [{\"marker\": {\"color\": \"indianred\"}, \"mode\": \"lines+markers\", \"name\": \"Gercek Risk Degeri\", \"type\": \"scatter\", \"x\": [\"2020-05-07T20:10:00\", \"2020-05-07T20:20:00\", \"2020-05-07T20:40:00\", \"2020-05-07T20:50:00\", \"2020-05-07T21:00:00\", \"2020-05-07T21:10:00\", \"2020-05-07T21:20:00\", \"2020-05-07T21:30:00\", \"2020-05-07T21:40:00\", \"2020-05-07T21:50:00\", \"2020-05-07T22:00:00\", \"2020-05-07T22:10:00\", \"2020-05-07T22:30:00\", \"2020-05-07T22:40:00\", \"2020-05-07T22:50:00\", \"2020-05-07T23:00:00\", \"2020-05-07T23:10:00\", \"2020-05-07T23:20:00\", \"2020-05-07T23:30:00\", \"2020-05-07T23:40:00\", \"2020-05-07T23:50:00\", \"2020-05-08T00:10:00\", \"2020-05-08T03:00:00\", \"2020-05-08T03:30:00\", \"2020-05-08T06:00:00\", \"2020-05-08T09:50:00\", \"2020-05-08T10:00:00\", \"2020-05-08T10:10:00\", \"2020-05-08T10:20:00\", \"2020-05-08T10:30:00\", \"2020-05-08T10:40:00\", \"2020-05-08T10:50:00\", \"2020-05-08T11:00:00\", \"2020-05-08T11:10:00\", \"2020-05-08T11:20:00\", \"2020-05-08T11:30:00\", \"2020-05-08T11:40:00\", \"2020-05-08T11:50:00\", \"2020-05-08T12:00:00\", \"2020-05-08T12:10:00\", \"2020-05-08T12:20:00\", \"2020-05-08T12:30:00\", \"2020-05-08T12:40:00\", \"2020-05-08T12:50:00\", \"2020-05-08T13:00:00\", \"2020-05-08T13:10:00\", \"2020-05-08T13:20:00\", \"2020-05-08T13:30:00\", \"2020-05-08T13:40:00\", \"2020-05-08T13:50:00\", \"2020-05-08T14:00:00\", \"2020-05-08T14:10:00\", \"2020-05-08T14:20:00\", \"2020-05-08T14:30:00\", \"2020-05-08T14:40:00\", \"2020-05-08T14:50:00\", \"2020-05-08T15:00:00\", \"2020-05-08T15:10:00\", \"2020-05-08T15:20:00\", \"2020-05-08T15:30:00\", \"2020-05-08T15:40:00\", \"2020-05-08T15:50:00\", \"2020-05-08T16:00:00\", \"2020-05-08T16:10:00\", \"2020-05-08T16:20:00\", \"2020-05-08T16:30:00\", \"2020-05-08T16:40:00\", \"2020-05-08T16:50:00\", \"2020-05-08T17:00:00\", \"2020-05-08T17:10:00\", \"2020-05-08T17:20:00\", \"2020-05-08T17:30:00\", \"2020-05-08T17:40:00\", \"2020-05-08T17:50:00\", \"2020-05-08T18:00:00\", \"2020-05-08T18:10:00\", \"2020-05-08T18:20:00\", \"2020-05-08T18:30:00\", \"2020-05-08T18:40:00\", \"2020-05-08T19:00:00\", \"2020-05-08T19:10:00\", \"2020-05-08T19:20:00\", \"2020-05-08T19:30:00\", \"2020-05-08T19:40:00\", \"2020-05-08T19:50:00\", \"2020-05-08T20:10:00\", \"2020-05-08T20:20:00\", \"2020-05-08T20:30:00\", \"2020-05-08T20:40:00\", \"2020-05-08T20:50:00\", \"2020-05-08T21:00:00\", \"2020-05-08T21:20:00\", \"2020-05-08T21:30:00\", \"2020-05-08T21:40:00\", \"2020-05-08T21:50:00\", \"2020-05-08T22:00:00\", \"2020-05-08T22:10:00\", \"2020-05-08T22:20:00\", \"2020-05-08T22:40:00\"], \"y\": [null, null, null, 0.7562838196754456, 0.7562838196754456, 0.7562838196754456, 0.7562838196754456, 0.7562838196754456, 0.7562838196754456, 0.7562838196754456, 0.7684210538864136, 0.7722097635269165, 0.7617087960243225, 0.7582244873046875, 0.7562838196754456, 0.7562838196754456, 0.7562838196754456, 0.7562838196754456, 0.7562838196754456, 0.7684210538864136, 0.7838415503501892, 0.7891748547554016, 0.7789884209632874, 0.775986909866333, 0.7859711050987244, 0.7891748547554016, 0.7533236145973206, 0.7319272756576538, 0.7445783019065857, 0.7514393329620361, 0.7562838196754456, 0.7562838196754456, 0.7562838196754456, 0.7562838196754456, 0.7562838196754456, 0.7684210538864136, 0.7838415503501892, 0.7891748547554016, 0.7909587621688843, 0.7909587621688843, 0.7909587621688843, 0.7909587621688843, 0.7909587621688843, 0.7909587621688843, 0.7789884209632874, 0.7633832097053528, 0.7582244873046875, 0.7562838196754456, 0.7562838196754456, 0.7562838196754456, 0.7684210538864136, 0.7722097635269165, 0.7742535471916199, 0.7859711050987244, 0.7891748547554016, 0.7909587621688843, 0.7909587621688843, 0.7909587621688843, 0.7909587621688843, 0.7789884209632874, 0.775986909866333, 0.7859711050987244, 0.7772427797317505, 0.775986909866333, 0.7859711050987244, 0.7772427797317505, 0.775986909866333, 0.7742535471916199, null, null, null, null, null, null, null, null, null, null, null, null, null, null, null, null, null, null, null, null, null, null, null, null, null, null, null, null, null, null, null]}, {\"marker\": {\"color\": \"lightsalmon\"}, \"mode\": \"lines+markers\", \"name\": \"Risk Tahmini\", \"type\": \"scatter\", \"x\": [\"2020-05-07T20:10:00\", \"2020-05-07T20:20:00\", \"2020-05-07T20:40:00\", \"2020-05-07T20:50:00\", \"2020-05-07T21:00:00\", \"2020-05-07T21:10:00\", \"2020-05-07T21:20:00\", \"2020-05-07T21:30:00\", \"2020-05-07T21:40:00\", \"2020-05-07T21:50:00\", \"2020-05-07T22:00:00\", \"2020-05-07T22:10:00\", \"2020-05-07T22:30:00\", \"2020-05-07T22:40:00\", \"2020-05-07T22:50:00\", \"2020-05-07T23:00:00\", \"2020-05-07T23:10:00\", \"2020-05-07T23:20:00\", \"2020-05-07T23:30:00\", \"2020-05-07T23:40:00\", \"2020-05-07T23:50:00\", \"2020-05-08T00:10:00\", \"2020-05-08T03:00:00\", \"2020-05-08T03:30:00\", \"2020-05-08T06:00:00\", \"2020-05-08T09:50:00\", \"2020-05-08T10:00:00\", \"2020-05-08T10:10:00\", \"2020-05-08T10:20:00\", \"2020-05-08T10:30:00\", \"2020-05-08T10:40:00\", \"2020-05-08T10:50:00\", \"2020-05-08T11:00:00\", \"2020-05-08T11:10:00\", \"2020-05-08T11:20:00\", \"2020-05-08T11:30:00\", \"2020-05-08T11:40:00\", \"2020-05-08T11:50:00\", \"2020-05-08T12:00:00\", \"2020-05-08T12:10:00\", \"2020-05-08T12:20:00\", \"2020-05-08T12:30:00\", \"2020-05-08T12:40:00\", \"2020-05-08T12:50:00\", \"2020-05-08T13:00:00\", \"2020-05-08T13:10:00\", \"2020-05-08T13:20:00\", \"2020-05-08T13:30:00\", \"2020-05-08T13:40:00\", \"2020-05-08T13:50:00\", \"2020-05-08T14:00:00\", \"2020-05-08T14:10:00\", \"2020-05-08T14:20:00\", \"2020-05-08T14:30:00\", \"2020-05-08T14:40:00\", \"2020-05-08T14:50:00\", \"2020-05-08T15:00:00\", \"2020-05-08T15:10:00\", \"2020-05-08T15:20:00\", \"2020-05-08T15:30:00\", \"2020-05-08T15:40:00\", \"2020-05-08T15:50:00\", \"2020-05-08T16:00:00\", \"2020-05-08T16:10:00\", \"2020-05-08T16:20:00\", \"2020-05-08T16:30:00\", \"2020-05-08T16:40:00\", \"2020-05-08T16:50:00\", \"2020-05-08T17:00:00\", \"2020-05-08T17:10:00\", \"2020-05-08T17:20:00\", \"2020-05-08T17:30:00\", \"2020-05-08T17:40:00\", \"2020-05-08T17:50:00\", \"2020-05-08T18:00:00\", \"2020-05-08T18:10:00\", \"2020-05-08T18:20:00\", \"2020-05-08T18:30:00\", \"2020-05-08T18:40:00\", \"2020-05-08T19:00:00\", \"2020-05-08T19:10:00\", \"2020-05-08T19:20:00\", \"2020-05-08T19:30:00\", \"2020-05-08T19:40:00\", \"2020-05-08T19:50:00\", \"2020-05-08T20:10:00\", \"2020-05-08T20:20:00\", \"2020-05-08T20:30:00\", \"2020-05-08T20:40:00\", \"2020-05-08T20:50:00\", \"2020-05-08T21:00:00\", \"2020-05-08T21:20:00\", \"2020-05-08T21:30:00\", \"2020-05-08T21:40:00\", \"2020-05-08T21:50:00\", \"2020-05-08T22:00:00\", \"2020-05-08T22:10:00\", \"2020-05-08T22:20:00\", \"2020-05-08T22:40:00\"], \"y\": [null, null, null, null, null, null, null, null, null, null, null, null, null, null, null, null, null, null, null, null, null, null, null, null, null, null, null, null, null, null, null, null, null, null, null, null, null, null, null, null, null, null, null, null, null, null, null, null, null, null, null, null, null, null, null, null, null, null, null, null, null, null, null, null, null, null, null, null, null, null, null, null, 0.7562838196754456, 0.7562838196754456, 0.7562838196754456, 0.7562838196754456, 0.7562838196754456, 0.7562838196754456, 0.7562838196754456, 0.7562838196754456, 0.7562838196754456, 0.7562838196754456, 0.7562838196754456, 0.7684210538864136, 0.7722097635269165, 0.7617087960243225, 0.7582244873046875, 0.7562838196754456, 0.7684210538864136, 0.7722097635269165, 0.7742535471916199, 0.7859711050987244, 0.7772427797317505, 0.7506307363510132, 0.7418984174728394, 0.7497193813323975, 0.7540253400802612, 0.7562838196754456, null]}],\n",
       "                        {\"template\": {\"data\": {\"bar\": [{\"error_x\": {\"color\": \"#2a3f5f\"}, \"error_y\": {\"color\": \"#2a3f5f\"}, \"marker\": {\"line\": {\"color\": \"#E5ECF6\", \"width\": 0.5}}, \"type\": \"bar\"}], \"barpolar\": [{\"marker\": {\"line\": {\"color\": \"#E5ECF6\", \"width\": 0.5}}, \"type\": \"barpolar\"}], \"carpet\": [{\"aaxis\": {\"endlinecolor\": \"#2a3f5f\", \"gridcolor\": \"white\", \"linecolor\": \"white\", \"minorgridcolor\": \"white\", \"startlinecolor\": \"#2a3f5f\"}, \"baxis\": {\"endlinecolor\": \"#2a3f5f\", \"gridcolor\": \"white\", \"linecolor\": \"white\", \"minorgridcolor\": \"white\", \"startlinecolor\": \"#2a3f5f\"}, \"type\": \"carpet\"}], \"choropleth\": [{\"colorbar\": {\"outlinewidth\": 0, \"ticks\": \"\"}, \"type\": \"choropleth\"}], \"contour\": [{\"colorbar\": {\"outlinewidth\": 0, \"ticks\": \"\"}, \"colorscale\": [[0.0, \"#0d0887\"], [0.1111111111111111, \"#46039f\"], [0.2222222222222222, \"#7201a8\"], [0.3333333333333333, \"#9c179e\"], [0.4444444444444444, \"#bd3786\"], [0.5555555555555556, \"#d8576b\"], [0.6666666666666666, \"#ed7953\"], [0.7777777777777778, \"#fb9f3a\"], [0.8888888888888888, \"#fdca26\"], [1.0, \"#f0f921\"]], \"type\": \"contour\"}], \"contourcarpet\": [{\"colorbar\": {\"outlinewidth\": 0, \"ticks\": \"\"}, \"type\": \"contourcarpet\"}], \"heatmap\": [{\"colorbar\": {\"outlinewidth\": 0, \"ticks\": \"\"}, \"colorscale\": [[0.0, \"#0d0887\"], [0.1111111111111111, \"#46039f\"], [0.2222222222222222, \"#7201a8\"], [0.3333333333333333, \"#9c179e\"], [0.4444444444444444, \"#bd3786\"], [0.5555555555555556, \"#d8576b\"], [0.6666666666666666, \"#ed7953\"], [0.7777777777777778, \"#fb9f3a\"], [0.8888888888888888, \"#fdca26\"], [1.0, \"#f0f921\"]], \"type\": \"heatmap\"}], \"heatmapgl\": [{\"colorbar\": {\"outlinewidth\": 0, \"ticks\": \"\"}, \"colorscale\": [[0.0, \"#0d0887\"], [0.1111111111111111, \"#46039f\"], [0.2222222222222222, \"#7201a8\"], [0.3333333333333333, \"#9c179e\"], [0.4444444444444444, \"#bd3786\"], [0.5555555555555556, \"#d8576b\"], [0.6666666666666666, \"#ed7953\"], [0.7777777777777778, \"#fb9f3a\"], [0.8888888888888888, \"#fdca26\"], [1.0, \"#f0f921\"]], \"type\": \"heatmapgl\"}], \"histogram\": [{\"marker\": {\"colorbar\": {\"outlinewidth\": 0, \"ticks\": \"\"}}, \"type\": \"histogram\"}], \"histogram2d\": [{\"colorbar\": {\"outlinewidth\": 0, \"ticks\": \"\"}, \"colorscale\": [[0.0, \"#0d0887\"], [0.1111111111111111, \"#46039f\"], [0.2222222222222222, \"#7201a8\"], [0.3333333333333333, \"#9c179e\"], [0.4444444444444444, \"#bd3786\"], [0.5555555555555556, \"#d8576b\"], [0.6666666666666666, \"#ed7953\"], [0.7777777777777778, \"#fb9f3a\"], [0.8888888888888888, \"#fdca26\"], [1.0, \"#f0f921\"]], \"type\": \"histogram2d\"}], \"histogram2dcontour\": [{\"colorbar\": {\"outlinewidth\": 0, \"ticks\": \"\"}, \"colorscale\": [[0.0, \"#0d0887\"], [0.1111111111111111, \"#46039f\"], [0.2222222222222222, \"#7201a8\"], [0.3333333333333333, \"#9c179e\"], [0.4444444444444444, \"#bd3786\"], [0.5555555555555556, \"#d8576b\"], [0.6666666666666666, \"#ed7953\"], [0.7777777777777778, \"#fb9f3a\"], [0.8888888888888888, \"#fdca26\"], [1.0, \"#f0f921\"]], \"type\": \"histogram2dcontour\"}], \"mesh3d\": [{\"colorbar\": {\"outlinewidth\": 0, \"ticks\": \"\"}, \"type\": \"mesh3d\"}], \"parcoords\": [{\"line\": {\"colorbar\": {\"outlinewidth\": 0, \"ticks\": \"\"}}, \"type\": \"parcoords\"}], \"pie\": [{\"automargin\": true, \"type\": \"pie\"}], \"scatter\": [{\"marker\": {\"colorbar\": {\"outlinewidth\": 0, \"ticks\": \"\"}}, \"type\": \"scatter\"}], \"scatter3d\": [{\"line\": {\"colorbar\": {\"outlinewidth\": 0, \"ticks\": \"\"}}, \"marker\": {\"colorbar\": {\"outlinewidth\": 0, \"ticks\": \"\"}}, \"type\": \"scatter3d\"}], \"scattercarpet\": [{\"marker\": {\"colorbar\": {\"outlinewidth\": 0, \"ticks\": \"\"}}, \"type\": \"scattercarpet\"}], \"scattergeo\": [{\"marker\": {\"colorbar\": {\"outlinewidth\": 0, \"ticks\": \"\"}}, \"type\": \"scattergeo\"}], \"scattergl\": [{\"marker\": {\"colorbar\": {\"outlinewidth\": 0, \"ticks\": \"\"}}, \"type\": \"scattergl\"}], \"scattermapbox\": [{\"marker\": {\"colorbar\": {\"outlinewidth\": 0, \"ticks\": \"\"}}, \"type\": \"scattermapbox\"}], \"scatterpolar\": [{\"marker\": {\"colorbar\": {\"outlinewidth\": 0, \"ticks\": \"\"}}, \"type\": \"scatterpolar\"}], \"scatterpolargl\": [{\"marker\": {\"colorbar\": {\"outlinewidth\": 0, \"ticks\": \"\"}}, \"type\": \"scatterpolargl\"}], \"scatterternary\": [{\"marker\": {\"colorbar\": {\"outlinewidth\": 0, \"ticks\": \"\"}}, \"type\": \"scatterternary\"}], \"surface\": [{\"colorbar\": {\"outlinewidth\": 0, \"ticks\": \"\"}, \"colorscale\": [[0.0, \"#0d0887\"], [0.1111111111111111, \"#46039f\"], [0.2222222222222222, \"#7201a8\"], [0.3333333333333333, \"#9c179e\"], [0.4444444444444444, \"#bd3786\"], [0.5555555555555556, \"#d8576b\"], [0.6666666666666666, \"#ed7953\"], [0.7777777777777778, \"#fb9f3a\"], [0.8888888888888888, \"#fdca26\"], [1.0, \"#f0f921\"]], \"type\": \"surface\"}], \"table\": [{\"cells\": {\"fill\": {\"color\": \"#EBF0F8\"}, \"line\": {\"color\": \"white\"}}, \"header\": {\"fill\": {\"color\": \"#C8D4E3\"}, \"line\": {\"color\": \"white\"}}, \"type\": \"table\"}]}, \"layout\": {\"annotationdefaults\": {\"arrowcolor\": \"#2a3f5f\", \"arrowhead\": 0, \"arrowwidth\": 1}, \"coloraxis\": {\"colorbar\": {\"outlinewidth\": 0, \"ticks\": \"\"}}, \"colorscale\": {\"diverging\": [[0, \"#8e0152\"], [0.1, \"#c51b7d\"], [0.2, \"#de77ae\"], [0.3, \"#f1b6da\"], [0.4, \"#fde0ef\"], [0.5, \"#f7f7f7\"], [0.6, \"#e6f5d0\"], [0.7, \"#b8e186\"], [0.8, \"#7fbc41\"], [0.9, \"#4d9221\"], [1, \"#276419\"]], \"sequential\": [[0.0, \"#0d0887\"], [0.1111111111111111, \"#46039f\"], [0.2222222222222222, \"#7201a8\"], [0.3333333333333333, \"#9c179e\"], [0.4444444444444444, \"#bd3786\"], [0.5555555555555556, \"#d8576b\"], [0.6666666666666666, \"#ed7953\"], [0.7777777777777778, \"#fb9f3a\"], [0.8888888888888888, \"#fdca26\"], [1.0, \"#f0f921\"]], \"sequentialminus\": [[0.0, \"#0d0887\"], [0.1111111111111111, \"#46039f\"], [0.2222222222222222, \"#7201a8\"], [0.3333333333333333, \"#9c179e\"], [0.4444444444444444, \"#bd3786\"], [0.5555555555555556, \"#d8576b\"], [0.6666666666666666, \"#ed7953\"], [0.7777777777777778, \"#fb9f3a\"], [0.8888888888888888, \"#fdca26\"], [1.0, \"#f0f921\"]]}, \"colorway\": [\"#636efa\", \"#EF553B\", \"#00cc96\", \"#ab63fa\", \"#FFA15A\", \"#19d3f3\", \"#FF6692\", \"#B6E880\", \"#FF97FF\", \"#FECB52\"], \"font\": {\"color\": \"#2a3f5f\"}, \"geo\": {\"bgcolor\": \"white\", \"lakecolor\": \"white\", \"landcolor\": \"#E5ECF6\", \"showlakes\": true, \"showland\": true, \"subunitcolor\": \"white\"}, \"hoverlabel\": {\"align\": \"left\"}, \"hovermode\": \"closest\", \"mapbox\": {\"style\": \"light\"}, \"paper_bgcolor\": \"white\", \"plot_bgcolor\": \"#E5ECF6\", \"polar\": {\"angularaxis\": {\"gridcolor\": \"white\", \"linecolor\": \"white\", \"ticks\": \"\"}, \"bgcolor\": \"#E5ECF6\", \"radialaxis\": {\"gridcolor\": \"white\", \"linecolor\": \"white\", \"ticks\": \"\"}}, \"scene\": {\"xaxis\": {\"backgroundcolor\": \"#E5ECF6\", \"gridcolor\": \"white\", \"gridwidth\": 2, \"linecolor\": \"white\", \"showbackground\": true, \"ticks\": \"\", \"zerolinecolor\": \"white\"}, \"yaxis\": {\"backgroundcolor\": \"#E5ECF6\", \"gridcolor\": \"white\", \"gridwidth\": 2, \"linecolor\": \"white\", \"showbackground\": true, \"ticks\": \"\", \"zerolinecolor\": \"white\"}, \"zaxis\": {\"backgroundcolor\": \"#E5ECF6\", \"gridcolor\": \"white\", \"gridwidth\": 2, \"linecolor\": \"white\", \"showbackground\": true, \"ticks\": \"\", \"zerolinecolor\": \"white\"}}, \"shapedefaults\": {\"line\": {\"color\": \"#2a3f5f\"}}, \"ternary\": {\"aaxis\": {\"gridcolor\": \"white\", \"linecolor\": \"white\", \"ticks\": \"\"}, \"baxis\": {\"gridcolor\": \"white\", \"linecolor\": \"white\", \"ticks\": \"\"}, \"bgcolor\": \"#E5ECF6\", \"caxis\": {\"gridcolor\": \"white\", \"linecolor\": \"white\", \"ticks\": \"\"}}, \"title\": {\"x\": 0.05}, \"xaxis\": {\"automargin\": true, \"gridcolor\": \"white\", \"linecolor\": \"white\", \"ticks\": \"\", \"title\": {\"standoff\": 15}, \"zerolinecolor\": \"white\", \"zerolinewidth\": 2}, \"yaxis\": {\"automargin\": true, \"gridcolor\": \"white\", \"linecolor\": \"white\", \"ticks\": \"\", \"title\": {\"standoff\": 15}, \"zerolinecolor\": \"white\", \"zerolinewidth\": 2}}}, \"yaxis\": {\"range\": [0.5, 1]}},\n",
       "                        {\"responsive\": true}\n",
       "                    ).then(function(){\n",
       "                            \n",
       "var gd = document.getElementById('c3a00644-b8d5-451c-bbc4-f05004443de1');\n",
       "var x = new MutationObserver(function (mutations, observer) {{\n",
       "        var display = window.getComputedStyle(gd).display;\n",
       "        if (!display || display === 'none') {{\n",
       "            console.log([gd, 'removed!']);\n",
       "            Plotly.purge(gd);\n",
       "            observer.disconnect();\n",
       "        }}\n",
       "}});\n",
       "\n",
       "// Listen for the removal of the full notebook cells\n",
       "var notebookContainer = gd.closest('#notebook-container');\n",
       "if (notebookContainer) {{\n",
       "    x.observe(notebookContainer, {childList: true});\n",
       "}}\n",
       "\n",
       "// Listen for the clearing of the current output cell\n",
       "var outputEl = gd.closest('.output');\n",
       "if (outputEl) {{\n",
       "    x.observe(outputEl, {childList: true});\n",
       "}}\n",
       "\n",
       "                        })\n",
       "                };\n",
       "                });\n",
       "            </script>\n",
       "        </div>"
      ]
     },
     "metadata": {},
     "output_type": "display_data"
    }
   ],
   "source": [
    "\n",
    "df4=risk_analizi(df_,user_df_,user=28)   \n",
    "\n",
    "df,df2,rolling_mean=Risk_Tahmini(df4,size=0.7)\n",
    "\n",
    "## Plot\n",
    "fig = go.Figure()\n",
    "fig.add_trace(go.Scatter(x=rolling_mean.index, y=df['train'],\n",
    "                         marker_color='indianred',\n",
    "                    mode='lines+markers',\n",
    "                    name='Gercek Risk Degeri'))\n",
    "\n",
    "fig.add_trace(go.Scatter(x=rolling_mean.index,y=df2['test'],\n",
    "        name='Risk Tahmini',\n",
    "        marker_color='lightsalmon',mode='lines+markers'))\n",
    "\n",
    "fig.update_yaxes(range=[0.5,1])\n",
    "\n",
    "fig.show()"
   ]
  },
  {
   "cell_type": "code",
   "execution_count": null,
   "metadata": {},
   "outputs": [],
   "source": []
  }
 ],
 "metadata": {
  "kernelspec": {
   "display_name": "Python 2",
   "language": "python",
   "name": "python2"
  },
  "language_info": {
   "codemirror_mode": {
    "name": "ipython",
    "version": 2
   },
   "file_extension": ".py",
   "mimetype": "text/x-python",
   "name": "python",
   "nbconvert_exporter": "python",
   "pygments_lexer": "ipython2",
   "version": "2.7.16"
  }
 },
 "nbformat": 4,
 "nbformat_minor": 2
}
