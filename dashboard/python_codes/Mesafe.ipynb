{
 "cells": [
  {
   "cell_type": "code",
   "execution_count": 1,
   "metadata": {},
   "outputs": [],
   "source": [
    "import requests\n",
    "import pandas as pd\n",
    "import numpy as np\n",
    "import geopy.distance\n",
    "from math import cos, asin, sqrt"
   ]
  },
  {
   "cell_type": "code",
   "execution_count": 2,
   "metadata": {},
   "outputs": [],
   "source": [
    "import pandas as pd\n",
    "df = pd.read_csv('df_6may_2131.csv')"
   ]
  },
  {
   "cell_type": "code",
   "execution_count": 75,
   "metadata": {},
   "outputs": [],
   "source": [
    "import pandas as pd\n",
    "import numpy as np\n",
    "import geopy.distance\n",
    "from math import cos, asin, sqrt\n",
    "\n",
    "def distance(lat1, lon1, lat2, lon2):\n",
    "    p = 0.017453292519943295\n",
    "    a = 0.5 - cos((lat2-lat1)*p)/2 + cos(lat1*p)*cos(lat2*p) * (1-cos((lon2-lon1)*p)) / 2\n",
    "    return 12742 * asin(sqrt(a))\n",
    "\n",
    "\n",
    "def Prepare_Range(df,date,u_id,num=5):\n",
    "    u_id = int(u_id)\n",
    "    df2=df.loc[df['ProcessDate']==date]\n",
    "    df2=df2.loc[:,[\"Temperature\",\"Longitude\",\"Latitude\",\"UserId\"]]\n",
    "    real=df2.loc[df2['UserId']==u_id]\n",
    "    real.reset_index()\n",
    "    v=real.to_dict('r')[0]\n",
    "    df2=df2.drop(df2.loc[df2['UserId']==u_id].index)\n",
    "    data = df2.to_dict('records') \n",
    "    if len(data)<num:\n",
    "        num = len(data)\n",
    "    close = sorted(data, key=lambda p: distance(v['Latitude'],v['Longitude'],p['Latitude'],p['Longitude']))[:num]\n",
    "    for i in range(num):\n",
    "        coords_1 = (v['Latitude'], v['Longitude'])\n",
    "        coords_2 = (close[i]['Latitude'], close[i]['Longitude'])\n",
    "        x=float(geopy.distance.vincenty(coords_1, coords_2).km)\n",
    "        close[i]['Distance'] = round(x,3)\n",
    "        \n",
    "    for i in range(num):\n",
    "        close[i].pop('Latitude', None)\n",
    "        close[i].pop('Longitude', None)\n",
    "        close[i]['Temperature'] = round(close[i]['Temperature'],2)\n",
    "    return close[:num]"
   ]
  },
  {
   "cell_type": "code",
   "execution_count": 76,
   "metadata": {},
   "outputs": [
    {
     "name": "stderr",
     "output_type": "stream",
     "text": [
      "/opt/anaconda3/lib/python3.7/site-packages/ipykernel_launcher.py:27: DeprecationWarning: Vincenty is deprecated and is going to be removed in geopy 2.0. Use `geopy.distance.geodesic` (or the default `geopy.distance.distance`) instead, which is more accurate and always converges.\n"
     ]
    },
    {
     "data": {
      "text/plain": [
       "[{'Temperature': 36.43, 'UserId': 26, 'Distance': 0.771},\n",
       " {'Temperature': 36.33, 'UserId': 29, 'Distance': 0.794},\n",
       " {'Temperature': 35.76, 'UserId': 28, 'Distance': 3.232},\n",
       " {'Temperature': 36.46, 'UserId': 11, 'Distance': 3.649},\n",
       " {'Temperature': 29.55, 'UserId': 70, 'Distance': 8.59},\n",
       " {'Temperature': 27.46, 'UserId': 50, 'Distance': 18.469},\n",
       " {'Temperature': 36.45, 'UserId': 24, 'Distance': 23.093}]"
      ]
     },
     "execution_count": 76,
     "metadata": {},
     "output_type": "execute_result"
    }
   ],
   "source": [
    "Prepare_Range(df,\"2020-05-06 21:20:00\",31,20)"
   ]
  },
  {
   "cell_type": "code",
   "execution_count": 58,
   "metadata": {},
   "outputs": [
    {
     "ename": "NameError",
     "evalue": "name 'df2' is not defined",
     "output_type": "error",
     "traceback": [
      "\u001b[0;31m---------------------------------------------------------------------------\u001b[0m",
      "\u001b[0;31mNameError\u001b[0m                                 Traceback (most recent call last)",
      "\u001b[0;32m<ipython-input-58-bf54f28a783a>\u001b[0m in \u001b[0;36m<module>\u001b[0;34m\u001b[0m\n\u001b[0;32m----> 1\u001b[0;31m \u001b[0mdf2\u001b[0m\u001b[0;34m\u001b[0m\u001b[0;34m\u001b[0m\u001b[0m\n\u001b[0m\u001b[1;32m      2\u001b[0m \u001b[0;34m\u001b[0m\u001b[0m\n",
      "\u001b[0;31mNameError\u001b[0m: name 'df2' is not defined"
     ]
    }
   ],
   "source": [
    "df2\n",
    "\n"
   ]
  },
  {
   "cell_type": "code",
   "execution_count": 5,
   "metadata": {},
   "outputs": [],
   "source": []
  },
  {
   "cell_type": "code",
   "execution_count": 13,
   "metadata": {},
   "outputs": [],
   "source": [
    "def range_km(close, v):\n",
    "    ranges=[ ]\n",
    "    for i in range(5):\n",
    "        coords_1 = (v['Latitude'], v['Longitude'])\n",
    "        coords_2 = (close[i]['Latitude'], close[i]['Longitude'])\n",
    "        x=geopy.distance.vincenty(coords_1, coords_2).km\n",
    "        ranges.append(x)\n",
    "    return ranges"
   ]
  },
  {
   "cell_type": "code",
   "execution_count": 19,
   "metadata": {},
   "outputs": [
    {
     "name": "stderr",
     "output_type": "stream",
     "text": [
      "/opt/anaconda3/lib/python3.7/site-packages/ipykernel_launcher.py:13: DeprecationWarning: Vincenty is deprecated and is going to be removed in geopy 2.0. Use `geopy.distance.geodesic` (or the default `geopy.distance.distance`) instead, which is more accurate and always converges.\n",
      "  del sys.path[0]\n"
     ]
    },
    {
     "ename": "KeyError",
     "evalue": "'Latitude'",
     "output_type": "error",
     "traceback": [
      "\u001b[0;31m---------------------------------------------------------------------------\u001b[0m",
      "\u001b[0;31mKeyError\u001b[0m                                  Traceback (most recent call last)",
      "\u001b[0;32m<ipython-input-19-7e4ad8632139>\u001b[0m in \u001b[0;36m<module>\u001b[0;34m\u001b[0m\n\u001b[0;32m----> 1\u001b[0;31m \u001b[0mdata\u001b[0m\u001b[0;34m=\u001b[0m\u001b[0mPrepare_Range\u001b[0m\u001b[0;34m(\u001b[0m\u001b[0mdf\u001b[0m\u001b[0;34m,\u001b[0m\u001b[0;34m\"2020-05-06 21:20:00\"\u001b[0m\u001b[0;34m,\u001b[0m\u001b[0;36m31\u001b[0m\u001b[0;34m)\u001b[0m\u001b[0;34m,\u001b[0m\u001b[0;34m\u001b[0m\u001b[0;34m\u001b[0m\u001b[0m\n\u001b[0m\u001b[1;32m      2\u001b[0m \u001b[0mdata\u001b[0m\u001b[0;34m\u001b[0m\u001b[0;34m\u001b[0m\u001b[0m\n",
      "\u001b[0;32m<ipython-input-18-5864f5738e7f>\u001b[0m in \u001b[0;36mPrepare_Range\u001b[0;34m(df, date, u_id)\u001b[0m\n\u001b[1;32m     10\u001b[0m     \u001b[0;32mfor\u001b[0m \u001b[0mi\u001b[0m \u001b[0;32min\u001b[0m \u001b[0mrange\u001b[0m\u001b[0;34m(\u001b[0m\u001b[0;36m5\u001b[0m\u001b[0;34m)\u001b[0m\u001b[0;34m:\u001b[0m\u001b[0;34m\u001b[0m\u001b[0;34m\u001b[0m\u001b[0m\n\u001b[1;32m     11\u001b[0m         \u001b[0mcoords_1\u001b[0m \u001b[0;34m=\u001b[0m \u001b[0;34m(\u001b[0m\u001b[0mv\u001b[0m\u001b[0;34m[\u001b[0m\u001b[0;34m'Latitude'\u001b[0m\u001b[0;34m]\u001b[0m\u001b[0;34m,\u001b[0m \u001b[0mv\u001b[0m\u001b[0;34m[\u001b[0m\u001b[0;34m'Longitude'\u001b[0m\u001b[0;34m]\u001b[0m\u001b[0;34m)\u001b[0m\u001b[0;34m\u001b[0m\u001b[0;34m\u001b[0m\u001b[0m\n\u001b[0;32m---> 12\u001b[0;31m         \u001b[0mcoords_2\u001b[0m \u001b[0;34m=\u001b[0m \u001b[0;34m(\u001b[0m\u001b[0mclose\u001b[0m\u001b[0;34m[\u001b[0m\u001b[0mi\u001b[0m\u001b[0;34m]\u001b[0m\u001b[0;34m[\u001b[0m\u001b[0;34m'Latitude'\u001b[0m\u001b[0;34m]\u001b[0m\u001b[0;34m,\u001b[0m \u001b[0mclose\u001b[0m\u001b[0;34m[\u001b[0m\u001b[0mi\u001b[0m\u001b[0;34m]\u001b[0m\u001b[0;34m[\u001b[0m\u001b[0;34m'Longitude'\u001b[0m\u001b[0;34m]\u001b[0m\u001b[0;34m)\u001b[0m\u001b[0;34m\u001b[0m\u001b[0;34m\u001b[0m\u001b[0m\n\u001b[0m\u001b[1;32m     13\u001b[0m         \u001b[0mx\u001b[0m\u001b[0;34m=\u001b[0m\u001b[0mfloat\u001b[0m\u001b[0;34m(\u001b[0m\u001b[0mgeopy\u001b[0m\u001b[0;34m.\u001b[0m\u001b[0mdistance\u001b[0m\u001b[0;34m.\u001b[0m\u001b[0mvincenty\u001b[0m\u001b[0;34m(\u001b[0m\u001b[0mcoords_1\u001b[0m\u001b[0;34m,\u001b[0m \u001b[0mcoords_2\u001b[0m\u001b[0;34m)\u001b[0m\u001b[0;34m.\u001b[0m\u001b[0mkm\u001b[0m\u001b[0;34m)\u001b[0m\u001b[0;34m\u001b[0m\u001b[0;34m\u001b[0m\u001b[0m\n\u001b[1;32m     14\u001b[0m         \u001b[0mdata\u001b[0m\u001b[0;34m[\u001b[0m\u001b[0mi\u001b[0m\u001b[0;34m]\u001b[0m\u001b[0;34m[\u001b[0m\u001b[0;34m'Distance'\u001b[0m\u001b[0;34m]\u001b[0m \u001b[0;34m=\u001b[0m \u001b[0mround\u001b[0m\u001b[0;34m(\u001b[0m\u001b[0mx\u001b[0m\u001b[0;34m,\u001b[0m\u001b[0;36m3\u001b[0m\u001b[0;34m)\u001b[0m\u001b[0;34m\u001b[0m\u001b[0;34m\u001b[0m\u001b[0m\n",
      "\u001b[0;31mKeyError\u001b[0m: 'Latitude'"
     ]
    }
   ],
   "source": [
    "data=Prepare_Range(df,\"2020-05-06 21:20:00\",31),\n",
    "data"
   ]
  },
  {
   "cell_type": "code",
   "execution_count": 11,
   "metadata": {},
   "outputs": [
    {
     "data": {
      "text/plain": [
       "[{'Temperature': 36.43000030517578,\n",
       "  'Longitude': 29.029373,\n",
       "  'Latitude': 41.1006016,\n",
       "  'UserId': 26},\n",
       " {'Temperature': 36.33000183105469,\n",
       "  'Longitude': 29.033715700000002,\n",
       "  'Latitude': 41.103737100000004,\n",
       "  'UserId': 29},\n",
       " {'Temperature': 35.7599983215332,\n",
       "  'Longitude': 29.0459326,\n",
       "  'Latitude': 41.1312702,\n",
       "  'UserId': 28},\n",
       " {'Temperature': 36.459999084472656,\n",
       "  'Longitude': 29.0051843,\n",
       "  'Latitude': 41.0775873,\n",
       "  'UserId': 11},\n",
       " {'Temperature': 29.54999923706055,\n",
       "  'Longitude': 28.976152600000002,\n",
       "  'Latitude': 41.0388938,\n",
       "  'UserId': 70}]"
      ]
     },
     "execution_count": 11,
     "metadata": {},
     "output_type": "execute_result"
    }
   ],
   "source": [
    "close=closest(data, v)\n",
    "close"
   ]
  },
  {
   "cell_type": "code",
   "execution_count": 12,
   "metadata": {},
   "outputs": [
    {
     "name": "stdout",
     "output_type": "stream",
     "text": [
      "31 26\n",
      "31 29\n",
      "31 28\n",
      "31 11\n",
      "31 70\n"
     ]
    },
    {
     "name": "stderr",
     "output_type": "stream",
     "text": [
      "/opt/anaconda3/lib/python3.7/site-packages/ipykernel_launcher.py:7: DeprecationWarning: Vincenty is deprecated and is going to be removed in geopy 2.0. Use `geopy.distance.geodesic` (or the default `geopy.distance.distance`) instead, which is more accurate and always converges.\n",
      "  import sys\n"
     ]
    },
    {
     "data": {
      "text/plain": [
       "[0.77147478466419,\n",
       " 0.7944271204406279,\n",
       " 3.232494820863889,\n",
       " 3.6494034435770213,\n",
       " 8.589541905982498]"
      ]
     },
     "execution_count": 12,
     "metadata": {},
     "output_type": "execute_result"
    }
   ],
   "source": [
    "range_km(close,v)"
   ]
  },
  {
   "cell_type": "code",
   "execution_count": 15,
   "metadata": {},
   "outputs": [
    {
     "data": {
      "text/plain": [
       "[{'Temperature': 27.459999084472656,\n",
       "  'Longitude': 28.8497218,\n",
       "  'Latitude': 41.0066464,\n",
       "  'UserId': 50},\n",
       " {'Temperature': 35.7599983215332,\n",
       "  'Longitude': 29.0459326,\n",
       "  'Latitude': 41.1312702,\n",
       "  'UserId': 28},\n",
       " {'Temperature': 36.459999084472656,\n",
       "  'Longitude': 29.0051843,\n",
       "  'Latitude': 41.0775873,\n",
       "  'UserId': 11},\n",
       " {'Temperature': 29.54999923706055,\n",
       "  'Longitude': 28.976152600000002,\n",
       "  'Latitude': 41.0388938,\n",
       "  'UserId': 70},\n",
       " {'Temperature': 36.33000183105469,\n",
       "  'Longitude': 29.033715700000002,\n",
       "  'Latitude': 41.103737100000004,\n",
       "  'UserId': 29},\n",
       " {'Temperature': 36.43000030517578,\n",
       "  'Longitude': 29.029373,\n",
       "  'Latitude': 41.1006016,\n",
       "  'UserId': 26},\n",
       " {'Temperature': 36.45000076293945,\n",
       "  'Longitude': 28.761837699999997,\n",
       "  'Latitude': 41.047297,\n",
       "  'UserId': 24}]"
      ]
     },
     "execution_count": 15,
     "metadata": {},
     "output_type": "execute_result"
    }
   ],
   "source": [
    "data"
   ]
  },
  {
   "cell_type": "code",
   "execution_count": 351,
   "metadata": {},
   "outputs": [
    {
     "data": {
      "text/plain": [
       "[{'Temperature': 27.459999084472656,\n",
       "  'Longitude': 28.8497218,\n",
       "  'Latitude': 41.0066464,\n",
       "  'UserId': 50},\n",
       " {'Temperature': 35.7599983215332,\n",
       "  'Longitude': 29.0459326,\n",
       "  'Latitude': 41.1312702,\n",
       "  'UserId': 28},\n",
       " {'Temperature': 36.459999084472656,\n",
       "  'Longitude': 29.0051843,\n",
       "  'Latitude': 41.0775873,\n",
       "  'UserId': 11},\n",
       " {'Temperature': 29.54999923706055,\n",
       "  'Longitude': 28.976152600000002,\n",
       "  'Latitude': 41.0388938,\n",
       "  'UserId': 70},\n",
       " {'Temperature': 36.33000183105469,\n",
       "  'Longitude': 29.033715700000002,\n",
       "  'Latitude': 41.103737100000004,\n",
       "  'UserId': 29},\n",
       " {'Temperature': 36.43000030517578,\n",
       "  'Longitude': 29.029373,\n",
       "  'Latitude': 41.1006016,\n",
       "  'UserId': 26},\n",
       " {'Temperature': 36.45000076293945,\n",
       "  'Longitude': 28.761837699999997,\n",
       "  'Latitude': 41.047297,\n",
       "  'UserId': 24}]"
      ]
     },
     "execution_count": 351,
     "metadata": {},
     "output_type": "execute_result"
    }
   ],
   "source": [
    "data"
   ]
  },
  {
   "cell_type": "code",
   "execution_count": null,
   "metadata": {},
   "outputs": [],
   "source": []
  }
 ],
 "metadata": {
  "kernelspec": {
   "display_name": "Python 3",
   "language": "python",
   "name": "python3"
  },
  "language_info": {
   "codemirror_mode": {
    "name": "ipython",
    "version": 3
   },
   "file_extension": ".py",
   "mimetype": "text/x-python",
   "name": "python",
   "nbconvert_exporter": "python",
   "pygments_lexer": "ipython3",
   "version": "3.7.6"
  }
 },
 "nbformat": 4,
 "nbformat_minor": 2
}
