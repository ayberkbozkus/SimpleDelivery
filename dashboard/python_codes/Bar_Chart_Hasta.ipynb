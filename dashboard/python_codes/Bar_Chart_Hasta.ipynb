{
 "cells": [
  {
   "cell_type": "markdown",
   "metadata": {},
   "source": [
    "### HASTA SAYISI BAR CHART"
   ]
  },
  {
   "cell_type": "code",
   "execution_count": 5,
   "metadata": {},
   "outputs": [
    {
     "data": {
      "text/html": [
       "        <script type=\"text/javascript\">\n",
       "        window.PlotlyConfig = {MathJaxConfig: 'local'};\n",
       "        if (window.MathJax) {MathJax.Hub.Config({SVG: {font: \"STIX-Web\"}});}\n",
       "        if (typeof require !== 'undefined') {\n",
       "        require.undef(\"plotly\");\n",
       "        requirejs.config({\n",
       "            paths: {\n",
       "                'plotly': ['https://cdn.plot.ly/plotly-latest.min']\n",
       "            }\n",
       "        });\n",
       "        require(['plotly'], function(Plotly) {\n",
       "            window._Plotly = Plotly;\n",
       "        });\n",
       "        }\n",
       "        </script>\n",
       "        "
      ]
     },
     "metadata": {},
     "output_type": "display_data"
    }
   ],
   "source": [
    "import plotly\n",
    "#import plotly.plotly as py\n",
    "import plotly.offline as pyo\n",
    "from   plotly import tools\n",
    "from   plotly.offline import download_plotlyjs, init_notebook_mode, iplot\n",
    "import pandas as pd\n",
    "init_notebook_mode(connected=True)\n",
    "\n",
    "def hasta_ve_saglikli_sayisi(user_df,df,temperature):\n",
    "    df.set_index('UserId',inplace=True)\n",
    "    df2=df.groupby(df.index).apply(lambda x: x.tail(40))## son 40 satır\n",
    "    df3=df2.groupby('UserId').mean()\n",
    "    df3['Hasta'] = 0\n",
    "    df3['Saglikli'] = 0\n",
    "    temperature=36\n",
    "    df3.loc[(df3['Temperature']>temperature ) , 'Hasta'] = 1.0 ## Temperature degiscek\n",
    "    df3.loc[(df3['Temperature']<temperature ) , 'Saglikli'] = 1.0 ## Temperature degiscek\n",
    "\n",
    "    df3=df3.reset_index()\n",
    "\n",
    "    \n",
    "    df_merged = pd.merge(left=df3, right=user_df, how='left', left_on=('UserId'),right_on=('UserId')) ## ,how=left\n",
    "    df4=df_merged.loc[:,['UserId','Age','Hasta','Saglikli']]\n",
    "    df5=df4.groupby('Age').sum()\n",
    "    df6=df5.reset_index()\n",
    "    \n",
    "    x=df6['Age']\n",
    "    y_hasta=df6['Hasta']\n",
    "    y_saglikli=df6['Saglikli']\n",
    "\n",
    "    return x,y_hasta,y_saglikli\n",
    "  \n",
    "    \n",
    "    \n",
    "    "
   ]
  },
  {
   "cell_type": "code",
   "execution_count": 6,
   "metadata": {},
   "outputs": [
    {
     "data": {
      "text/plain": [
       "0     1.0\n",
       "1     0.0\n",
       "2     1.0\n",
       "3     0.0\n",
       "4     0.0\n",
       "5     2.0\n",
       "6     2.0\n",
       "7     2.0\n",
       "8     3.0\n",
       "9     0.0\n",
       "10    2.0\n",
       "11    1.0\n",
       "12    1.0\n",
       "13    0.0\n",
       "14    1.0\n",
       "15    1.0\n",
       "16    1.0\n",
       "17    1.0\n",
       "18    1.0\n",
       "19    0.0\n",
       "20    1.0\n",
       "21    1.0\n",
       "Name: Saglikli, dtype: float64"
      ]
     },
     "execution_count": 6,
     "metadata": {},
     "output_type": "execute_result"
    }
   ],
   "source": [
    "user_df=pd.read_csv(\"https://raw.githubusercontent.com/leventguner/kortsis/master/python_codes/user_df.csv?token=ANPQE2MLYNLNT52IZ33NE426X34DO\")\n",
    "df=pd.read_csv('https://raw.githubusercontent.com/leventguner/kortsis/master/python_codes/latest_df.csv?token=ANPQE2J2LQYJAGUWBEA35I26X7VAA')\n",
    "\n",
    "user_df_=user_df.copy()\n",
    "df_=df.copy()\n",
    "x,y_hasta,y_saglikli=hasta_ve_saglikli_sayisi(user_df_,df_,temperature=35)\n",
    "y_saglikli"
   ]
  },
  {
   "cell_type": "markdown",
   "metadata": {},
   "source": [
    "## Plotly"
   ]
  },
  {
   "cell_type": "code",
   "execution_count": 10,
   "metadata": {},
   "outputs": [
    {
     "ename": "NameError",
     "evalue": "name 'Figure' is not defined",
     "output_type": "error",
     "traceback": [
      "\u001b[0;31m---------------------------------------------------------------------------\u001b[0m",
      "\u001b[0;31mNameError\u001b[0m                                 Traceback (most recent call last)",
      "\u001b[0;32m<ipython-input-10-50b88ad10d8d>\u001b[0m in \u001b[0;36m<module>\u001b[0;34m\u001b[0m\n\u001b[1;32m      7\u001b[0m \u001b[0mdata\u001b[0m \u001b[0;34m=\u001b[0m \u001b[0;34m[\u001b[0m\u001b[0mtrace1\u001b[0m\u001b[0;34m]\u001b[0m\u001b[0;34m\u001b[0m\u001b[0;34m\u001b[0m\u001b[0m\n\u001b[1;32m      8\u001b[0m \u001b[0mlayout\u001b[0m \u001b[0;34m=\u001b[0m \u001b[0;34m{\u001b[0m\u001b[0;34m\"title\"\u001b[0m\u001b[0;34m:\u001b[0m \u001b[0;34m\"Custom Colors\"\u001b[0m\u001b[0;34m}\u001b[0m\u001b[0;34m\u001b[0m\u001b[0;34m\u001b[0m\u001b[0m\n\u001b[0;32m----> 9\u001b[0;31m \u001b[0mfig\u001b[0m \u001b[0;34m=\u001b[0m \u001b[0mFigure\u001b[0m\u001b[0;34m(\u001b[0m\u001b[0mdata\u001b[0m\u001b[0;34m=\u001b[0m\u001b[0mdata\u001b[0m\u001b[0;34m,\u001b[0m \u001b[0mlayout\u001b[0m\u001b[0;34m=\u001b[0m\u001b[0mlayout\u001b[0m\u001b[0;34m)\u001b[0m\u001b[0;34m\u001b[0m\u001b[0;34m\u001b[0m\u001b[0m\n\u001b[0m\u001b[1;32m     10\u001b[0m \u001b[0mfig\u001b[0m\u001b[0;34m.\u001b[0m\u001b[0mshow\u001b[0m\u001b[0;34m(\u001b[0m\u001b[0;34m)\u001b[0m\u001b[0;34m\u001b[0m\u001b[0;34m\u001b[0m\u001b[0m\n",
      "\u001b[0;31mNameError\u001b[0m: name 'Figure' is not defined"
     ]
    }
   ],
   "source": [
    "\n",
    "trace1 = {\n",
    "  \"type\": \"histogram\", \n",
    "  \"x\": x, \n",
    "  \"y\": y_hasta, \n",
    "  \"marker\": {\"color\": [\"rgb(119, 221, 119)\", \"rgb(187, 215, 108)\",\" rgb(255, 210, 97)\", \"rgb(255, 157, 97)\", \"rgb(255, 105, 97)\", \"rgb(255, 53, 97)\"]}\n",
    "}\n",
    "data = [trace1]\n",
    "layout = {\"title\": \"Custom Colors\"}\n",
    "fig = Figure(data=data, layout=layout)\n",
    "fig.show()"
   ]
  },
  {
   "cell_type": "code",
   "execution_count": 8,
   "metadata": {},
   "outputs": [],
   "source": [
    "user_df=pd.read_csv(\"https://raw.githubusercontent.com/leventguner/kortsis/master/python_codes/user_df.csv?token=ANPQE2MLYNLNT52IZ33NE426X34DO\")\n",
    "df=pd.read_csv('https://raw.githubusercontent.com/leventguner/kortsis/master/python_codes/latest_df.csv?token=ANPQE2J2LQYJAGUWBEA35I26X7VAA')\n"
   ]
  },
  {
   "cell_type": "code",
   "execution_count": 14,
   "metadata": {},
   "outputs": [
    {
     "data": {
      "text/plain": [
       "array([1, 0, 1, 0, 0, 2, 2, 2, 3, 0, 2, 1, 1, 0, 1, 1, 1, 1, 1, 0, 1, 1])"
      ]
     },
     "execution_count": 14,
     "metadata": {},
     "output_type": "execute_result"
    }
   ],
   "source": [
    "y_saglikli.values.astype(int)"
   ]
  },
  {
   "cell_type": "code",
   "execution_count": 16,
   "metadata": {},
   "outputs": [
    {
     "data": {
      "text/plain": [
       "array([1, 1, 0, 1, 1, 0, 0, 1, 0, 1, 1, 0, 0, 1, 1, 0, 1, 0, 0, 1, 1, 0])"
      ]
     },
     "execution_count": 16,
     "metadata": {},
     "output_type": "execute_result"
    }
   ],
   "source": [
    "y_hasta.values.astype(int)"
   ]
  },
  {
   "cell_type": "code",
   "execution_count": null,
   "metadata": {},
   "outputs": [],
   "source": []
  }
 ],
 "metadata": {
  "kernelspec": {
   "display_name": "Python 3",
   "language": "python",
   "name": "python3"
  },
  "language_info": {
   "codemirror_mode": {
    "name": "ipython",
    "version": 3
   },
   "file_extension": ".py",
   "mimetype": "text/x-python",
   "name": "python",
   "nbconvert_exporter": "python",
   "pygments_lexer": "ipython3",
   "version": "3.7.6"
  }
 },
 "nbformat": 4,
 "nbformat_minor": 2
}
